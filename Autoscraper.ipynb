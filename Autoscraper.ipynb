{
  "nbformat": 4,
  "nbformat_minor": 0,
  "metadata": {
    "colab": {
      "name": "Autoscraper.ipynb",
      "provenance": [],
      "authorship_tag": "ABX9TyNxqz/V1x79N02ij9b3xCSQ",
      "include_colab_link": true
    },
    "kernelspec": {
      "name": "python3",
      "display_name": "Python 3"
    }
  },
  "cells": [
    {
      "cell_type": "markdown",
      "metadata": {
        "id": "view-in-github",
        "colab_type": "text"
      },
      "source": [
        "<a href=\"https://colab.research.google.com/github/dhamvi01/Autoscraper---Web-Scraping/blob/master/Autoscraper.ipynb\" target=\"_parent\"><img src=\"https://colab.research.google.com/assets/colab-badge.svg\" alt=\"Open In Colab\"/></a>"
      ]
    },
    {
      "cell_type": "markdown",
      "metadata": {
        "id": "BV6ci4qf9Qj7"
      },
      "source": [
        "#### 1. Import Libraries"
      ]
    },
    {
      "cell_type": "code",
      "metadata": {
        "id": "42j54f9W9Rks"
      },
      "source": [
        "from autoscraper import AutoScraper"
      ],
      "execution_count": null,
      "outputs": []
    },
    {
      "cell_type": "markdown",
      "metadata": {
        "id": "84tpPbjD9b-V"
      },
      "source": [
        "#### 2. Defining Web Scraping function \n",
        "Let us start by defining a URL from which will be used to fetch the data and the required data sample which is to be fetched. Here I will fetch titles for different articles on NLP published in Analytics India Magazine."
      ]
    },
    {
      "cell_type": "code",
      "metadata": {
        "id": "oi_0ri4P1nIr"
      },
      "source": [
        "url = 'https://analyticsindiamag.com/?s=nlp+analysis' \n",
        "\n",
        "category = [\"Hands-On Guide To Using AutoNLP For Automating Sentiment Analysis\"] ## the first title"
      ],
      "execution_count": 68,
      "outputs": []
    },
    {
      "cell_type": "markdown",
      "metadata": {
        "id": "GsKh3rmf95OT"
      },
      "source": [
        "#### 3. Initiate AutoScraper\n",
        "The next step is calling the AutoScraper function so that we can use it to build the scraper model and perform a web scraping operation."
      ]
    },
    {
      "cell_type": "code",
      "metadata": {
        "id": "w4DNh_0-1sCN"
      },
      "source": [
        "scraper = AutoScraper()"
      ],
      "execution_count": 69,
      "outputs": []
    },
    {
      "cell_type": "markdown",
      "metadata": {
        "id": "usW9FCFF-GiD"
      },
      "source": [
        "#### 4. Initiate AutoScraper\n",
        "The next step is calling the AutoScraper function so that we can use it to build the scraper model and perform a web scraping operation. "
      ]
    },
    {
      "cell_type": "code",
      "metadata": {
        "id": "aIGsKqeD16rs",
        "outputId": "4c35a6b1-57f7-45ee-9948-d48aee4e6e8f",
        "colab": {
          "base_uri": "https://localhost:8080/",
          "height": 54
        }
      },
      "source": [
        "scrape = AutoScraper()\n",
        "\n",
        "final = scrape.build(url, category)\n",
        "\n",
        "print(final)"
      ],
      "execution_count": 70,
      "outputs": [
        {
          "output_type": "stream",
          "text": [
            "['Hands-On Guide To Using AutoNLP For Automating Sentiment Analysis', 'Visualizing Sentiment Analysis Reports Using Scattertext NLP Tool', 'Google’s New NLP Model Achieves BERT-Level Performance Using Few Parameters', 'Hands-On Tutorial On Polyglot – Python Toolkit For Multilingual NLP Applications', 'GPT-3 Vs BERT For NLP Tasks', 'Complete Guide On NLP Profiler: Python Tool For Profiling of Textual Dataset', 'Top 10 R Packages For Natural Language Processing (NLP)', 'Hands-On Tutorial on Named Entity Recognition (NER) in NLP', 'Hands-on Guide to StanfordNLP – A Python Wrapper For Popular NLP Library CoreNLP']\n"
          ],
          "name": "stdout"
        }
      ]
    },
    {
      "cell_type": "markdown",
      "metadata": {
        "id": "6sx0ozd2-fxj"
      },
      "source": [
        "Here we saw that it returns the title of the topic based on NLP, similarly, we can also retrieve URLs of the Article by just passing the sample URL in the category we defined above.\n",
        "\n"
      ]
    },
    {
      "cell_type": "markdown",
      "metadata": {
        "id": "a_qA2QPv-Oqs"
      },
      "source": [
        "#### 5. Building The object\n",
        "This is the final step where we create the object and display the result of the web scraping."
      ]
    },
    {
      "cell_type": "code",
      "metadata": {
        "id": "ZUtXE9xT1897",
        "outputId": "c95df257-4758-494d-f60c-a71b1b701697",
        "colab": {
          "base_uri": "https://localhost:8080/",
          "height": 54
        }
      },
      "source": [
        "category = [\"https://analyticsindiamag.com/hands-on-guide-to-using-autonlp-for-automating-sentiment-analysis/\"] #the first url link\n",
        "\n",
        "scrape = AutoScraper()\n",
        "\n",
        "final = scraper.build(url, category)\n",
        "\n",
        "print(final)"
      ],
      "execution_count": 66,
      "outputs": [
        {
          "output_type": "stream",
          "text": [
            "['https://analyticsindiamag.com/hands-on-guide-to-using-autonlp-for-automating-sentiment-analysis/', 'https://analyticsindiamag.com/visualizing-sentiment-analysis-reports-using-scattertext-nlp-tool/', 'https://analyticsindiamag.com/googles-new-nlp-model-achieves-bert-level-performance-using-few-parameters/', 'https://analyticsindiamag.com/hands-on-tutorial-on-polyglot-python-toolkit-for-multilingual-nlp-applications/', 'https://analyticsindiamag.com/gpt-3-vs-bert-for-nlp-tasks/', 'https://analyticsindiamag.com/complete-guide-on-nlp-profiler-python-tool-for-profiling-of-textual-dataset/', 'https://analyticsindiamag.com/top-10-r-packages-for-natural-language-processing-nlp/', 'https://analyticsindiamag.com/hands-on-tutorial-on-named-entity-recognition-ner-in-nlp/', 'https://analyticsindiamag.com/hands-on-guide-to-stanfordnlp-a-python-wrapper-for-popular-nlp-library-corenlp/']\n"
          ],
          "name": "stdout"
        }
      ]
    },
    {
      "cell_type": "markdown",
      "metadata": {
        "id": "ya3eYBCi-6NT"
      },
      "source": [
        "#### Function for Similar Result\n",
        "Autoscraper allows you to use the model you build for fetching similar data from a different URL. We need to use the ‘get_result_similar’ function to fetch similar data. In this step, we will retrieve the URLs of different articles on Image Processing."
      ]
    },
    {
      "cell_type": "code",
      "metadata": {
        "id": "5uxR3xk22vKz",
        "outputId": "ca5ba64e-43ae-4da3-f21a-8987aaf9eadb",
        "colab": {
          "base_uri": "https://localhost:8080/",
          "height": 168
        }
      },
      "source": [
        "scrape.get_result_similar('https://analyticsindiamag.com/?s=nlp+analysis')"
      ],
      "execution_count": 71,
      "outputs": [
        {
          "output_type": "execute_result",
          "data": {
            "text/plain": [
              "['Hands-On Guide To Using AutoNLP For Automating Sentiment Analysis',\n",
              " 'Visualizing Sentiment Analysis Reports Using Scattertext NLP Tool',\n",
              " 'Google’s New NLP Model Achieves BERT-Level Performance Using Few Parameters',\n",
              " 'Hands-On Tutorial On Polyglot – Python Toolkit For Multilingual NLP Applications',\n",
              " 'GPT-3 Vs BERT For NLP Tasks',\n",
              " 'Complete Guide On NLP Profiler: Python Tool For Profiling of Textual Dataset',\n",
              " 'Top 10 R Packages For Natural Language Processing (NLP)',\n",
              " 'Hands-On Tutorial on Named Entity Recognition (NER) in NLP',\n",
              " 'Hands-on Guide to StanfordNLP – A Python Wrapper For Popular NLP Library CoreNLP']"
            ]
          },
          "metadata": {
            "tags": []
          },
          "execution_count": 71
        }
      ]
    },
    {
      "cell_type": "markdown",
      "metadata": {
        "id": "cRimhnJN_riu"
      },
      "source": [
        "As we can see it's fetching titles from other keyword search"
      ]
    },
    {
      "cell_type": "code",
      "metadata": {
        "id": "5Qdd5INY8JAS"
      },
      "source": [
        ""
      ],
      "execution_count": null,
      "outputs": []
    }
  ]
}